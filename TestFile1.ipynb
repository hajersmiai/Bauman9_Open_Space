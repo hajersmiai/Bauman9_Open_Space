{
 "cells": [
  {
   "cell_type": "code",
   "execution_count": null,
   "id": "1d4656d8",
   "metadata": {},
   "outputs": [],
   "source": [
    "# Test Pyton works...\n",
    "print(\"Hello World\")\n",
    "\n",
    "def main():\n",
    "    os = OpenSpace(\"BeCode Workspace\")\n",
    "\n",
    "    t1 = Table(\"Table A\", 3)\n",
    "    t2 = Table(\"Table B\", 2)\n",
    "    os.add_table(t1)\n",
    "    os.add_table(t2)\n"
   ]
  },
  {
   "cell_type": "code",
   "execution_count": null,
   "id": "275dcbd1",
   "metadata": {},
   "outputs": [],
   "source": [
    "#Test Python is working\n",
    "print(\"Maybe better now\")\n",
    "print(\"last chance\")\n"
   ]
  }
 ],
 "metadata": {
  "kernelspec": {
   "display_name": "base",
   "language": "python",
   "name": "python3"
  },
  "language_info": {
   "name": "python",
   "version": "3.12.7"
  }
 },
 "nbformat": 4,
 "nbformat_minor": 5
}
