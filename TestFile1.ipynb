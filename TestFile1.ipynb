{
 "cells": [
  {
   "cell_type": "code",
   "execution_count": null,
   "id": "1d4656d8",
   "metadata": {},
   "outputs": [],
   "source": [
    "# Test Pyton works...\n",
    "print(\"Hello World\")\n"
   ]
  },
  {
   "cell_type": "code",
   "execution_count": null,
   "id": "275dcbd1",
   "metadata": {},
   "outputs": [],
   "source": [
    "#Test Python is working\n",
    "print(\"Maybe better now\")\n"
   ]
  }
 ],
 "metadata": {
  "kernelspec": {
   "display_name": "base",
   "language": "python",
   "name": "python3"
  },
  "language_info": {
   "name": "python",
   "version": "3.12.7"
  }
 },
 "nbformat": 4,
 "nbformat_minor": 5
}
